{
 "cells": [
  {
   "cell_type": "code",
   "execution_count": 19,
   "metadata": {},
   "outputs": [],
   "source": [
    "import torch\n",
    "A = torch.tensor(0, dtype=torch.float, requires_grad=True)\n",
    "B = torch.randn(5, 6, requires_grad=True)"
   ]
  },
  {
   "cell_type": "code",
   "execution_count": 20,
   "metadata": {},
   "outputs": [],
   "source": [
    "C = torch.lt(B, A)"
   ]
  },
  {
   "cell_type": "code",
   "execution_count": 21,
   "metadata": {},
   "outputs": [
    {
     "data": {
      "text/plain": [
       "tensor([[-0.5045, -0.9991, -0.4347, -0.9045,  0.0000, -0.9741],\n",
       "        [-0.7124,  0.0000,  0.0000, -0.9222,  0.0000, -0.9475],\n",
       "        [-0.7806, -0.7998, -0.6533, -0.9391,  0.0000, -1.0000],\n",
       "        [-0.8437, -0.1654, -0.4141, -0.7561, -0.9952, -0.9964],\n",
       "        [ 0.0000, -0.5618, -0.8445, -0.5740,  0.0000, -0.4040]],\n",
       "       grad_fn=<MulBackward0>)"
      ]
     },
     "execution_count": 21,
     "metadata": {},
     "output_type": "execute_result"
    }
   ],
   "source": [
    "C * torch.sin(B)"
   ]
  }
 ],
 "metadata": {
  "kernelspec": {
   "display_name": "pyskl",
   "language": "python",
   "name": "python3"
  },
  "language_info": {
   "codemirror_mode": {
    "name": "ipython",
    "version": 3
   },
   "file_extension": ".py",
   "mimetype": "text/x-python",
   "name": "python",
   "nbconvert_exporter": "python",
   "pygments_lexer": "ipython3",
   "version": "3.7.11"
  },
  "orig_nbformat": 4
 },
 "nbformat": 4,
 "nbformat_minor": 2
}
