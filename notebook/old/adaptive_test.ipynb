{
 "cells": [
  {
   "cell_type": "code",
   "execution_count": 1,
   "metadata": {},
   "outputs": [],
   "source": [
    "import torch\n",
    "from shiftgcn import get_shift_indexes, get_shift_indexes_with_test_case"
   ]
  },
  {
   "attachments": {},
   "cell_type": "markdown",
   "metadata": {},
   "source": [
    "# Writing"
   ]
  },
  {
   "cell_type": "code",
   "execution_count": 2,
   "metadata": {},
   "outputs": [],
   "source": [
    "device = 'cpu'\n",
    "\n",
    "N = 32\n",
    "V = 25\n",
    "A = torch.eye(V, device = device).unsqueeze(0).repeat(N, 1, 1) \n",
    "# A = torch.ones((N, V, V), device = device)\n",
    "C = A.softmax(dim = -1).to(device).view(-1, V)\n",
    "\n",
    "KERNEL = 256\n",
    "\n",
    "# shift_indexes  = get_shift_indexes(C, 256, device)"
   ]
  },
  {
   "cell_type": "code",
   "execution_count": 3,
   "metadata": {},
   "outputs": [
    {
     "data": {
      "text/plain": [
       "torch.Size([800, 25])"
      ]
     },
     "execution_count": 3,
     "metadata": {},
     "output_type": "execute_result"
    }
   ],
   "source": [
    "counts = C * KERNEL\n",
    "rounded_counts = torch.floor(counts).long()\n",
    "remaining_count = KERNEL - torch.sum(rounded_counts, dim = -1)\n",
    "fractional_parts = counts - rounded_counts\n",
    "fractional_parts.shape"
   ]
  },
  {
   "cell_type": "code",
   "execution_count": 4,
   "metadata": {},
   "outputs": [
    {
     "data": {
      "text/plain": [
       "torch.Size([800])"
      ]
     },
     "execution_count": 4,
     "metadata": {},
     "output_type": "execute_result"
    }
   ],
   "source": [
    "remaining_count.shape"
   ]
  },
  {
   "cell_type": "code",
   "execution_count": 5,
   "metadata": {},
   "outputs": [
    {
     "data": {
      "text/plain": [
       "tensor([[12, 24, 23,  ...,  2,  1,  0],\n",
       "        [12, 24, 23,  ...,  3,  2,  1],\n",
       "        [12, 24, 23,  ...,  3,  1,  2],\n",
       "        ...,\n",
       "        [12, 24, 23,  ...,  2,  1, 22],\n",
       "        [12, 24, 22,  ...,  2,  1, 23],\n",
       "        [ 1, 23, 22,  ...,  2,  0, 24]])"
      ]
     },
     "execution_count": 5,
     "metadata": {},
     "output_type": "execute_result"
    }
   ],
   "source": [
    "sorted_indices = torch.argsort(fractional_parts, dim = -1, descending=True)\n",
    "sorted_indices"
   ]
  },
  {
   "cell_type": "code",
   "execution_count": 6,
   "metadata": {},
   "outputs": [
    {
     "data": {
      "text/plain": [
       "torch.Size([800, 25])"
      ]
     },
     "execution_count": 6,
     "metadata": {},
     "output_type": "execute_result"
    }
   ],
   "source": [
    "fake_mask = torch.arange(V).reshape(1, V).repeat(N * V, 1) < remaining_count.unsqueeze(1)\n",
    "fake_mask.shape"
   ]
  },
  {
   "cell_type": "code",
   "execution_count": 7,
   "metadata": {},
   "outputs": [
    {
     "data": {
      "text/plain": [
       "torch.Size([800, 25])"
      ]
     },
     "execution_count": 7,
     "metadata": {},
     "output_type": "execute_result"
    }
   ],
   "source": [
    "fake_mask.shape"
   ]
  },
  {
   "cell_type": "code",
   "execution_count": 8,
   "metadata": {},
   "outputs": [],
   "source": [
    "real_mask = torch.gather(fake_mask, 1, sorted_indices.argsort())"
   ]
  },
  {
   "cell_type": "code",
   "execution_count": 9,
   "metadata": {},
   "outputs": [],
   "source": [
    "final_counts = torch.zeros((N * V, V), dtype=torch.long).masked_scatter(real_mask, torch.ones((N * V, V), dtype=torch.long)) + rounded_counts"
   ]
  },
  {
   "cell_type": "code",
   "execution_count": 10,
   "metadata": {},
   "outputs": [
    {
     "data": {
      "text/plain": [
       "tensor([26,  9,  9,  9,  9,  9,  9,  9,  9,  9,  9, 10, 10, 10, 10, 10, 10, 10,\n",
       "        10, 10, 10, 10, 10, 10, 10])"
      ]
     },
     "execution_count": 10,
     "metadata": {},
     "output_type": "execute_result"
    }
   ],
   "source": [
    "final_counts[0]"
   ]
  },
  {
   "cell_type": "code",
   "execution_count": 11,
   "metadata": {},
   "outputs": [],
   "source": [
    "vertexes_tensor = torch.arange(0, V, device=device, requires_grad= False).repeat(N * V)\n",
    "\n",
    "shift_indexes = torch.repeat_interleave(vertexes_tensor, final_counts.view(-1)).view(N, V, -1)\n",
    "\n",
    "position_indexes = torch.arange(KERNEL, dtype=torch.long, device=device, requires_grad=False).reshape((1, 1, -1)).repeat(N, V, 1)"
   ]
  },
  {
   "attachments": {},
   "cell_type": "markdown",
   "metadata": {},
   "source": [
    "# Test case"
   ]
  },
  {
   "cell_type": "code",
   "execution_count": 32,
   "metadata": {},
   "outputs": [],
   "source": [
    "device = 'cpu'\n",
    "\n",
    "N = 32\n",
    "V = 25\n",
    "A = torch.eye(V, device = device).unsqueeze(0).repeat(N, 1, 1)\n",
    "# A = torch.ones((N, V, V), device = device)\n",
    "C = A.softmax(dim = -1).to(device)\n",
    "\n",
    "KERNEL = 6"
   ]
  },
  {
   "cell_type": "code",
   "execution_count": 33,
   "metadata": {},
   "outputs": [],
   "source": [
    "\n",
    "shift_indexes = get_shift_indexes(C, KERNEL, 'cpu')"
   ]
  },
  {
   "cell_type": "code",
   "execution_count": 34,
   "metadata": {},
   "outputs": [
    {
     "data": {
      "text/plain": [
       "tensor([[  0,  73, 128, 135, 142, 149],\n",
       "        [  0,   7, 128, 135, 142, 149],\n",
       "        [ 12,  73, 128, 135, 142, 149],\n",
       "        [ 18,  73, 128, 135, 142, 149],\n",
       "        [ 24,  73, 128, 135, 142, 149],\n",
       "        [ 30,  73, 128, 135, 142, 149],\n",
       "        [ 36,  73, 128, 135, 142, 149],\n",
       "        [ 42,  73, 128, 135, 142, 149],\n",
       "        [ 48,  73, 128, 135, 142, 149],\n",
       "        [ 54,  73, 128, 135, 142, 149],\n",
       "        [ 60,  73, 128, 135, 142, 149],\n",
       "        [ 66,  73, 128, 135, 142, 149],\n",
       "        [  0,  73, 128, 135, 142, 149],\n",
       "        [ 72,  79, 128, 135, 142, 149],\n",
       "        [ 72,  85, 128, 135, 142, 149],\n",
       "        [ 72,  91, 128, 135, 142, 149],\n",
       "        [ 72,  97, 128, 135, 142, 149],\n",
       "        [ 72, 103, 128, 135, 142, 149],\n",
       "        [ 72, 109, 128, 135, 142, 149],\n",
       "        [ 72, 115, 128, 135, 142, 149],\n",
       "        [ 72, 121, 128, 135, 142, 149],\n",
       "        [ 72, 121, 128, 135, 142, 149],\n",
       "        [ 72, 121, 128, 135, 142, 149],\n",
       "        [ 72, 121, 128, 135, 142, 149],\n",
       "        [ 72, 121, 128, 135, 142, 149]])"
      ]
     },
     "execution_count": 34,
     "metadata": {},
     "output_type": "execute_result"
    }
   ],
   "source": [
    "shift_indexes[0]"
   ]
  }
 ],
 "metadata": {
  "kernelspec": {
   "display_name": "pyskl",
   "language": "python",
   "name": "python3"
  },
  "language_info": {
   "codemirror_mode": {
    "name": "ipython",
    "version": 3
   },
   "file_extension": ".py",
   "mimetype": "text/x-python",
   "name": "python",
   "nbconvert_exporter": "python",
   "pygments_lexer": "ipython3",
   "version": "3.7.11"
  },
  "orig_nbformat": 4
 },
 "nbformat": 4,
 "nbformat_minor": 2
}
