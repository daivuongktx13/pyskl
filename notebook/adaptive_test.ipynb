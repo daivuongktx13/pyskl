{
 "cells": [
  {
   "cell_type": "code",
   "execution_count": 1,
   "metadata": {},
   "outputs": [],
   "source": [
    "import torch\n",
    "from shiftgcn import get_shift_indexes, get_shift_indexes_with_test_case"
   ]
  },
  {
   "attachments": {},
   "cell_type": "markdown",
   "metadata": {},
   "source": [
    "# Test case"
   ]
  },
  {
   "cell_type": "code",
   "execution_count": 2,
   "metadata": {},
   "outputs": [],
   "source": [
    "device = 'cuda'\n",
    "\n",
    "N = 32\n",
    "V = 25\n",
    "A = torch.eye(V, device = device).unsqueeze(0).repeat(N, 1, 1)\n",
    "B = torch.randn(N, V, V, requires_grad=True, device = device)\n",
    "G = torch.tensor(0.0, requires_grad= True, device = device)\n",
    "# A = torch.ones((N, V, V), device = device)\n",
    "C = (A + G * B).softmax(dim = -1)\n",
    "\n",
    "KERNEL = 6"
   ]
  },
  {
   "cell_type": "code",
   "execution_count": 3,
   "metadata": {},
   "outputs": [
    {
     "name": "stdout",
     "output_type": "stream",
     "text": [
      "tensor([[0.6104, 0.2246, 0.2246,  ..., 0.2246, 0.2246, 0.2246],\n",
      "        [0.2246, 0.6104, 0.2246,  ..., 0.2246, 0.2246, 0.2246],\n",
      "        [0.2246, 0.2246, 0.6104,  ..., 0.2246, 0.2246, 0.2246],\n",
      "        ...,\n",
      "        [0.2246, 0.2246, 0.2246,  ..., 0.6104, 0.2246, 0.2246],\n",
      "        [0.2246, 0.2246, 0.2246,  ..., 0.2246, 0.6104, 0.2246],\n",
      "        [0.2246, 0.2246, 0.2246,  ..., 0.2246, 0.2246, 0.6104]],\n",
      "       device='cuda:0', grad_fn=<SubBackward0>) tensor([[0, 0, 0,  ..., 0, 0, 0],\n",
      "        [0, 0, 0,  ..., 0, 0, 0],\n",
      "        [0, 0, 0,  ..., 0, 0, 0],\n",
      "        ...,\n",
      "        [0, 0, 0,  ..., 0, 0, 0],\n",
      "        [0, 0, 0,  ..., 0, 0, 0],\n",
      "        [0, 0, 0,  ..., 0, 0, 0]], device='cuda:0')\n"
     ]
    }
   ],
   "source": [
    "shift_indexes = get_shift_indexes(C, KERNEL, 'cuda')"
   ]
  }
 ],
 "metadata": {
  "kernelspec": {
   "display_name": "pyskl",
   "language": "python",
   "name": "python3"
  },
  "language_info": {
   "codemirror_mode": {
    "name": "ipython",
    "version": 3
   },
   "file_extension": ".py",
   "mimetype": "text/x-python",
   "name": "python",
   "nbconvert_exporter": "python",
   "pygments_lexer": "ipython3",
   "version": "3.7.11"
  },
  "orig_nbformat": 4
 },
 "nbformat": 4,
 "nbformat_minor": 2
}
