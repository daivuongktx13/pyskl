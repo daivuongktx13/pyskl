{
 "cells": [
  {
   "cell_type": "code",
   "execution_count": null,
   "metadata": {},
   "outputs": [],
   "source": [
    "from pyskl.models import build_model\n",
    "from mmcv import Config\n",
    "from pyskl.datasets.pipelines import Compose\n",
    "import seaborn as sns\n",
    "from mmcv.runner.checkpoint import load_checkpoint\n",
    "from pyskl.datasets import build_dataloader, build_dataset\n",
    "import torch\n",
    "import matplotlib.pyplot as plt\n",
    "import numpy as np\n"
   ]
  },
  {
   "cell_type": "code",
   "execution_count": null,
   "metadata": {},
   "outputs": [],
   "source": [
    "with open('../tools/data/label_map/nturgbd_120.txt', 'r') as file:\n",
    "    label_names = [line.strip() for line in file]"
   ]
  },
  {
   "cell_type": "code",
   "execution_count": null,
   "metadata": {},
   "outputs": [],
   "source": [
    "import matplotlib.pyplot as plt\n",
    "import time\n",
    "import matplotlib.colors as mcolors\n",
    "import mpl_toolkits.mplot3d.axes3d as p3\n",
    "\n",
    "def Vis3DPose(keypoint, graph, label, index, angle=(30, 45), fig_size=(8, 8), with_grid=False):\n",
    "    kp = keypoint\n",
    "    colors = ('#3498db', '#000000', '#e74c3c')  # l, m, r\n",
    "\n",
    "    graph = graph.max(0)\n",
    "    flattened_array = graph.flatten()\n",
    "    sorted_indices = np.argsort(flattened_array)[::-1]\n",
    "    top_50_indices_flattened = sorted_indices[:20]\n",
    "    values = flattened_array[top_50_indices_flattened]\n",
    "    # Calculate min and max of the array\n",
    "    min_A = np.min(values)\n",
    "    max_A = np.max(values)\n",
    "    # Scale the array to be between 0 and 1\n",
    "    values = (values - min_A) / (max_A - min_A)\n",
    "    colors_50 = plt.cm.Wistia(values)\n",
    "    top_50_indices_2d = np.unravel_index(top_50_indices_flattened, graph.shape)\n",
    "\n",
    "    plt.cm.Oranges([0,1,3,4])\n",
    "\n",
    "    num_joint = 25\n",
    "    kinematic_tree = [\n",
    "        [1, 2, 21, 3, 4],\n",
    "        [21, 9, 10, 11, 12, 25], [12, 24],\n",
    "        [21, 5, 6, 7, 8, 23], [8, 22],\n",
    "        [1, 17, 18, 19, 20],\n",
    "        [1, 13, 14, 15, 16]\n",
    "    ]\n",
    "    kinematic_tree = [[x - 1 for x in lst] for lst in kinematic_tree]\n",
    "    colors = ['black', 'blue', 'blue', 'red', 'red', 'darkblue', 'darkred']\n",
    "    colors = ['blue', 'blue', 'blue', 'blue', 'blue', 'blue', 'blue']\n",
    "\n",
    "    assert len(kp.shape) == 4 and kp.shape[3] == 3 and kp.shape[2] == num_joint\n",
    "    x, y, z = kp[..., 0], kp[..., 1], kp[..., 2]\n",
    "    min_x, max_x = min(x[x != 0]), max(x[x != 0])\n",
    "    min_y, max_y = min(y[y != 0]), max(y[y != 0])\n",
    "    min_z, max_z = min(z[z != 0]), max(z[z != 0])\n",
    "\n",
    "    max_axis = max(max_x - min_x, max_y - min_y, max_z - min_z)\n",
    "    mid_x, mid_y, mid_z = (min_x + max_x) / 2, (min_y + max_y) / 2, (min_z + max_z) / 2\n",
    "\n",
    "    min_x, max_x = mid_x - max_axis / 2, mid_x + max_axis / 2\n",
    "    min_y, max_y = mid_y - max_axis / 2, mid_y + max_axis / 2\n",
    "    min_z, max_z = mid_z - max_axis / 2, mid_z + max_axis / 2\n",
    "\n",
    "    fig = plt.figure(figsize=fig_size)\n",
    "    ax = p3.Axes3D(fig)\n",
    "\n",
    "    ax.set_xlim3d([min_x, max_x])\n",
    "    ax.set_ylim3d([min_y, max_y])\n",
    "    ax.set_zlim3d([min_z, max_z])\n",
    "    ax.view_init(*angle)\n",
    "    # fig.suptitle(item.get('frame_dir', 'demo'), fontsize=20)\n",
    "    def update(t):\n",
    "        # ax.lines = []\n",
    "        ax.view_init(*angle)\n",
    "        for i, (chain, color) in enumerate(zip(kinematic_tree, colors)):\n",
    "            linewidth = 2.0\n",
    "            for j in range(kp.shape[0]):\n",
    "                ax.plot3D(kp[j, t, chain, 0], kp[j, t, chain, 1], kp[j, t, chain, 2], linewidth=linewidth, color=color)\n",
    "        for chain, rgba_color in zip(top_50_indices_2d, colors_50):\n",
    "            linewidth = 1.0\n",
    "            hex_color = mcolors.to_hex(rgba_color)\n",
    "            for j in range(kp.shape[0]):\n",
    "                ax.plot3D(kp[j, t, chain, 0], kp[j, t, chain, 1], kp[j, t, chain, 2], linewidth=linewidth, color=hex_color)\n",
    "        if not with_grid:\n",
    "            plt.axis('off')\n",
    "            ax.set_xticklabels([])\n",
    "            ax.set_yticklabels([])\n",
    "            ax.set_zticklabels([])\n",
    "    update(50)\n",
    "    plt.title(label_names[label])\n",
    "    # plt.show()\n",
    "    name = label_names[label].replace(\"/\", \" or \")\n",
    "    plt.savefig(f'attn_vis/{name}_{index}.png')"
   ]
  },
  {
   "cell_type": "code",
   "execution_count": null,
   "metadata": {},
   "outputs": [],
   "source": [
    "base = '../work_dirs/aagcn/aagcn_pyskl_ntu60_xsub_3dkp/j_0.01_random8_convnew'\n",
    "config = f'{base}/j.py'\n",
    "checkpoint_file = f'{base}/best_top1_acc_epoch_16.pth'\n",
    "# best_top1_acc_epoch_16"
   ]
  },
  {
   "cell_type": "code",
   "execution_count": null,
   "metadata": {},
   "outputs": [],
   "source": [
    "base2= '../work_dirs/aagcn/aagcn_pyskl_ntu60_xsub_3dkp/j_0.01_random8_convnew_gcl'\n",
    "config2 = f'{base2}/j.py'\n",
    "checkpoint_file2 = f'{base2}/epoch_16.pth'\n",
    "# best_top1_acc_epoch_16"
   ]
  },
  {
   "cell_type": "code",
   "execution_count": null,
   "metadata": {},
   "outputs": [],
   "source": [
    "cfg = Config.fromfile(config)\n",
    "cfg.data.val['ann_file'] = '../data/nturgbd/ntu60_3danno.pkl'\n",
    "cfg.model['backbone']['return_graph'] = True\n",
    "model = build_model(cfg.model)\n",
    "val_dataset = build_dataset(cfg.data.val)\n",
    "load_checkpoint(model, checkpoint_file)\n"
   ]
  },
  {
   "cell_type": "code",
   "execution_count": null,
   "metadata": {},
   "outputs": [],
   "source": [
    "# cfg2 = Config.fromfile(config2)\n",
    "# cfg2.model['backbone']['return_graph'] = True\n",
    "# model2 = build_model(cfg2.model)\n",
    "# load_checkpoint(model2, checkpoint_file2)"
   ]
  },
  {
   "cell_type": "code",
   "execution_count": null,
   "metadata": {},
   "outputs": [],
   "source": [
    "i = 10\n",
    "keypoints = val_dataset[i]['keypoint']\n",
    "label = val_dataset[i]['label']\n",
    "print(label_names[label])\n",
    "with torch.no_grad():\n",
    "    x, graph = model.backbone(keypoints)\n",
    "    graph = graph.numpy().reshape((-1, 25, 25))\n",
    "    # x2, graph2 = model2.backbone(keypoints)\n",
    "    # graph2 = graph2.numpy().reshape((-1, 25, 25))"
   ]
  },
  {
   "cell_type": "code",
   "execution_count": null,
   "metadata": {},
   "outputs": [],
   "source": [
    "# layer = 8\n",
    "\n",
    "# plt.figure(figsize=(16, 9))\n",
    "\n",
    "# for i in range(8):\n",
    "#     data = graph[i]\n",
    "#     # Create a heatmap\n",
    "#     plt.subplot(2, 4, i + 1)\n",
    "#     plt.imshow(data, cmap='Blues', interpolation='nearest')\n",
    "#     plt.title(f\"Matrix {i}\")\n",
    "\n",
    "# # Show the plot\n",
    "# plt.show()"
   ]
  },
  {
   "cell_type": "code",
   "execution_count": null,
   "metadata": {},
   "outputs": [],
   "source": [
    "# for i in range(100):\n",
    "#     keypoints = val_dataset[i]['keypoint']\n",
    "#     label = val_dataset[i]['label']\n",
    "#     print(label_names[label])\n",
    "#     with torch.no_grad():\n",
    "#         x, graph = model.backbone(keypoints)\n",
    "#         graph = graph.numpy().reshape((-1, 25, 25))\n",
    "#         # x2, graph2 = model2.backbone(keypoints)\n",
    "#         # graph2 = graph2.numpy().reshape((-1, 25, 25))\n",
    "#         Vis3DPose(keypoints.numpy()[0], graph, label, i, angle=(30, 45), fig_size=(8, 8), with_grid=False)"
   ]
  },
  {
   "cell_type": "code",
   "execution_count": null,
   "metadata": {},
   "outputs": [],
   "source": [
    "Vis3DPose(keypoints.numpy()[0], graph, label, 0, angle=(30, 45), fig_size=(8, 8), with_grid=False)"
   ]
  },
  {
   "cell_type": "code",
   "execution_count": null,
   "metadata": {},
   "outputs": [],
   "source": []
  }
 ],
 "metadata": {
  "kernelspec": {
   "display_name": "pyskl",
   "language": "python",
   "name": "python3"
  },
  "language_info": {
   "codemirror_mode": {
    "name": "ipython",
    "version": 3
   },
   "file_extension": ".py",
   "mimetype": "text/x-python",
   "name": "python",
   "nbconvert_exporter": "python",
   "pygments_lexer": "ipython3",
   "version": "3.7.11"
  }
 },
 "nbformat": 4,
 "nbformat_minor": 2
}
