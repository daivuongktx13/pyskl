{
 "cells": [
  {
   "cell_type": "code",
   "execution_count": null,
   "metadata": {},
   "outputs": [],
   "source": [
    "from mmcv import load\n",
    "import numpy as np\n",
    "import matplotlib.pyplot as plt\n",
    "from sklearn.manifold import TSNE\n",
    "\n",
    "zs = load('../work_dirs/zs/zs_5.pkl')\n",
    "zs_gcl = load('../work_dirs/zs/zs_5_gcl.pkl')"
   ]
  },
  {
   "cell_type": "code",
   "execution_count": null,
   "metadata": {},
   "outputs": [],
   "source": [
    "# Define the data and labels\n",
    "data = [z for z in zs if z[1] in [9, 10, 11, 12, 13]]\n",
    "\n",
    "X = [x[0] for x in data]\n",
    "y = [x[1] for x in data]\n",
    "\n",
    "# Apply t-SNE to reduce the dimensionality to 2 dimensions\n",
    "tsne = TSNE(n_components=2, random_state=42)\n",
    "X_tsne = tsne.fit_transform(X)\n",
    "\n",
    "# Plot the t-SNE visualization\n",
    "plt.figure(figsize=(10, 8))\n",
    "plt.scatter(X_tsne[:, 0], X_tsne[:, 1], c=y, cmap=plt.cm.get_cmap(\"jet\", 10))\n",
    "plt.colorbar(ticks=range(10))\n",
    "plt.title('t-SNE Visualization of 3 PC 2 PC2 Conv')\n",
    "plt.xlabel('t-SNE Component 1')\n",
    "plt.ylabel('t-SNE Component 2')\n",
    "plt.show()"
   ]
  },
  {
   "cell_type": "code",
   "execution_count": null,
   "metadata": {},
   "outputs": [],
   "source": [
    "# Define the data and labels\n",
    "data = [z for z in zs_gcl if z[1] in [9, 10, 11, 12, 13]]\n",
    "\n",
    "X = [x[0] for x in data]\n",
    "y = [x[1] for x in data]\n",
    "\n",
    "# Apply t-SNE to reduce the dimensionality to 2 dimensions\n",
    "tsne = TSNE(n_components=2, random_state=42)\n",
    "X_tsne = tsne.fit_transform(X)\n",
    "\n",
    "# Plot the t-SNE visualization\n",
    "plt.figure(figsize=(10, 8))\n",
    "plt.scatter(X_tsne[:, 0], X_tsne[:, 1], c=y, cmap=plt.cm.get_cmap(\"jet\", 10))\n",
    "plt.colorbar(ticks=range(10))\n",
    "plt.title('t-SNE Visualization of 3 PC 2 PC2 Conv + GCL')\n",
    "plt.xlabel('t-SNE Component 1')\n",
    "plt.ylabel('t-SNE Component 2')\n",
    "plt.show()"
   ]
  },
  {
   "cell_type": "code",
   "execution_count": null,
   "metadata": {},
   "outputs": [],
   "source": [
    "# Plot the t-SNE visualization\n",
    "plt.figure(figsize=(10, 8))\n",
    "plt.scatter(X_tsne[:, 0], X_tsne[:, 1], c=y, cmap=plt.cm.get_cmap(\"jet\", 10))\n",
    "plt.colorbar(ticks=range(10))\n",
    "plt.title('t-SNE Visualization of 3 PC 2 PC2 Conv + GCL')\n",
    "plt.xlabel('t-SNE Component 1')\n",
    "plt.ylabel('t-SNE Component 2')\n",
    "plt.legend()\n",
    "plt.show()"
   ]
  }
 ],
 "metadata": {
  "kernelspec": {
   "display_name": "pyskl",
   "language": "python",
   "name": "python3"
  },
  "language_info": {
   "codemirror_mode": {
    "name": "ipython",
    "version": 3
   },
   "file_extension": ".py",
   "mimetype": "text/x-python",
   "name": "python",
   "nbconvert_exporter": "python",
   "pygments_lexer": "ipython3",
   "version": "3.7.11"
  }
 },
 "nbformat": 4,
 "nbformat_minor": 2
}
