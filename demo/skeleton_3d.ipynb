{
 "cells": [
  {
   "cell_type": "code",
   "execution_count": 1,
   "metadata": {},
   "outputs": [
    {
     "name": "stderr",
     "output_type": "stream",
     "text": [
      "/home/trungct/miniconda3/envs/pyskl/lib/python3.7/site-packages/requests/__init__.py:114: RequestsDependencyWarning: urllib3 (2.2.1) or chardet (5.1.0)/charset_normalizer (3.1.0) doesn't match a supported version!\n",
      "  RequestsDependencyWarning,\n"
     ]
    }
   ],
   "source": [
    "import numpy as np\n",
    "import matplotlib.pyplot as plt\n",
    "from mpl_toolkits.mplot3d import Axes3D\n",
    "from mmcv import load, dump\n",
    "import cv2\n",
    "from pyskl.datasets.pipelines import PreNormalize3D\n",
    "\n",
    "annotations = load('../data/nturgbd/ntu60_3danno.pkl')['annotations']\n",
    "\n",
    "# Example data: 25 joints with 3 coordinates each\n",
    "num_joints = 25\n",
    "num_dimensions = 3\n",
    "# data = np.random.rand(num_joints, num_dimensions)"
   ]
  },
  {
   "cell_type": "code",
   "execution_count": 14,
   "metadata": {},
   "outputs": [],
   "source": [
    "with open('../tools/data/label_map/nturgbd_120.txt', 'r') as file:\n",
    "    label_names = [line.strip() for line in file]"
   ]
  },
  {
   "cell_type": "code",
   "execution_count": 10,
   "metadata": {},
   "outputs": [],
   "source": [
    "import copy as cp\n",
    "import cv2\n",
    "import matplotlib.pyplot as plt\n",
    "import moviepy.editor as mpy\n",
    "import mpl_toolkits.mplot3d.axes3d as p3\n",
    "import numpy as np\n",
    "from matplotlib.animation import FuncAnimation\n",
    "from mmcv import load\n",
    "from tqdm import tqdm\n",
    "\n",
    "from pyskl.smp import h2r\n",
    "\n",
    "def Vis3DPose(item, layout='nturgb+d', fps=12, angle=(30, 45), fig_size=(8, 8), with_grid=False):\n",
    "    kp = item['keypoint'].copy()\n",
    "    colors = ('#3498db', '#000000', '#e74c3c')  # l, m, r\n",
    "\n",
    "    assert layout == 'nturgb+d'\n",
    "    if layout == 'nturgb+d':\n",
    "        num_joint = 25\n",
    "        kinematic_tree = [\n",
    "            [1, 2, 21, 3, 4],\n",
    "            [21, 9, 10, 11, 12, 25], [12, 24],\n",
    "            [21, 5, 6, 7, 8, 23], [8, 22],\n",
    "            [1, 17, 18, 19, 20],\n",
    "            [1, 13, 14, 15, 16]\n",
    "        ]\n",
    "        kinematic_tree = [[x - 1 for x in lst] for lst in kinematic_tree]\n",
    "        colors = ['black', 'blue', 'blue', 'red', 'red', 'darkblue', 'darkred']\n",
    "        colors = ['blue', 'blue', 'blue', 'blue', 'blue', 'blue', 'blue']\n",
    "\n",
    "    assert len(kp.shape) == 4 and kp.shape[3] == 3 and kp.shape[2] == num_joint\n",
    "    x, y, z = kp[..., 0], kp[..., 1], kp[..., 2]\n",
    "    min_x, max_x = min(x[x != 0]), max(x[x != 0])\n",
    "    min_y, max_y = min(y[y != 0]), max(y[y != 0])\n",
    "    min_z, max_z = min(z[z != 0]), max(z[z != 0])\n",
    "\n",
    "    max_axis = max(max_x - min_x, max_y - min_y, max_z - min_z)\n",
    "    mid_x, mid_y, mid_z = (min_x + max_x) / 2, (min_y + max_y) / 2, (min_z + max_z) / 2\n",
    "\n",
    "    min_x, max_x = mid_x - max_axis / 2, mid_x + max_axis / 2\n",
    "    min_y, max_y = mid_y - max_axis / 2, mid_y + max_axis / 2\n",
    "    min_z, max_z = mid_z - max_axis / 2, mid_z + max_axis / 2\n",
    "\n",
    "    fig = plt.figure(figsize=fig_size)\n",
    "    ax = p3.Axes3D(fig)\n",
    "\n",
    "    ax.set_xlim3d([min_x, max_x])\n",
    "    ax.set_ylim3d([min_y, max_y])\n",
    "    ax.set_zlim3d([min_z, max_z])\n",
    "    ax.view_init(*angle)\n",
    "    fig.suptitle(item.get('frame_dir', 'demo'), fontsize=20)\n",
    "\n",
    "    def update(t):\n",
    "        # ax.lines = []\n",
    "        ax.view_init(*angle)\n",
    "        for i, (chain, color) in enumerate(zip(kinematic_tree, colors)):\n",
    "            linewidth = 2.0\n",
    "            for j in range(kp.shape[0]):\n",
    "                ax.plot3D(kp[j, t, chain, 0], kp[j, t, chain, 1], kp[j, t, chain, 2], linewidth=linewidth, color=color)\n",
    "        if not with_grid:\n",
    "            plt.axis('off')\n",
    "            ax.set_xticklabels([])\n",
    "            ax.set_yticklabels([])\n",
    "            ax.set_zticklabels([])\n",
    "    update(10)\n",
    "    plt.show()"
   ]
  },
  {
   "cell_type": "code",
   "execution_count": 16,
   "metadata": {},
   "outputs": [
    {
     "name": "stdout",
     "output_type": "stream",
     "text": [
      "sneeze/cough\n"
     ]
    },
    {
     "data": {
      "image/png": "[encoded data removed]",
      "text/plain": [
       "<Figure size 800x800 with 1 Axes>"
      ]
     },
     "metadata": {},
     "output_type": "display_data"
    }
   ],
   "source": [
    "# Visualize 3D Skeletons\n",
    "index = 100\n",
    "anno = annotations[index]\n",
    "print(label_names[anno['label']])\n",
    "anno = PreNormalize3D()(anno)  # * Need Pre-Normalization before Visualization\n",
    "Vis3DPose(anno, layout='nturgb+d', fps=12, angle=(30, 45), fig_size=(8, 8), with_grid=False)"
   ]
  }
 ],
 "metadata": {
  "kernelspec": {
   "display_name": "pyskl",
   "language": "python",
   "name": "python3"
  },
  "language_info": {
   "codemirror_mode": {
    "name": "ipython",
    "version": 3
   },
   "file_extension": ".py",
   "mimetype": "text/x-python",
   "name": "python",
   "nbconvert_exporter": "python",
   "pygments_lexer": "ipython3",
   "version": "3.7.11"
  }
 },
 "nbformat": 4,
 "nbformat_minor": 2
}
