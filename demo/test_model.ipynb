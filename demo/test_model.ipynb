{
 "cells": [
  {
   "cell_type": "code",
   "execution_count": 1,
   "metadata": {},
   "outputs": [
    {
     "name": "stderr",
     "output_type": "stream",
     "text": [
      "/home/trungct/miniconda3/envs/pyskl/lib/python3.7/site-packages/tqdm/auto.py:21: TqdmWarning: IProgress not found. Please update jupyter and ipywidgets. See https://ipywidgets.readthedocs.io/en/stable/user_install.html\n",
      "  from .autonotebook import tqdm as notebook_tqdm\n"
     ]
    }
   ],
   "source": [
    "from pyskl.models import build_model\n",
    "from mmcv import Config\n",
    "from pyskl.datasets.pipelines import Compose\n",
    "# import seaborn as sns\n",
    "from mmcv.runner.checkpoint import load_checkpoint\n",
    "from pyskl.datasets import build_dataloader, build_dataset\n",
    "import torch\n",
    "import matplotlib.pyplot as plt\n",
    "import numpy as np"
   ]
  },
  {
   "cell_type": "code",
   "execution_count": 2,
   "metadata": {},
   "outputs": [],
   "source": [
    "config = f'/home/trungct/pyskl/configs/aagcn/aagcn_pyskl_ntu60_xsub_3dkp/j.py'"
   ]
  },
  {
   "cell_type": "code",
   "execution_count": 3,
   "metadata": {},
   "outputs": [
    {
     "name": "stderr",
     "output_type": "stream",
     "text": [
      "2024-05-12 09:28:37,691 - pyskl - INFO - 16487 videos remain after valid thresholding\n"
     ]
    }
   ],
   "source": [
    "cfg = Config.fromfile(config)\n",
    "cfg.data.val['ann_file'] = '../data/nturgbd/ntu60_3danno.pkl'\n",
    "model = build_model(cfg.model)\n",
    "val_dataset = build_dataset(cfg.data.val)"
   ]
  },
  {
   "cell_type": "code",
   "execution_count": 4,
   "metadata": {},
   "outputs": [],
   "source": [
    "i = 10\n",
    "keypoints = val_dataset[i]['keypoint']\n",
    "label = val_dataset[i]['label']\n",
    "# with torch.no_grad():\n",
    "x = model.backbone(keypoints)"
   ]
  },
  {
   "cell_type": "code",
   "execution_count": 5,
   "metadata": {},
   "outputs": [
    {
     "data": {
      "text/plain": [
       "2332640"
      ]
     },
     "execution_count": 5,
     "metadata": {},
     "output_type": "execute_result"
    }
   ],
   "source": [
    "def count_parameters(model):\n",
    "    return sum(p.numel() for p in model.parameters())\n",
    "count_parameters(model)"
   ]
  }
 ],
 "metadata": {
  "kernelspec": {
   "display_name": "pyskl",
   "language": "python",
   "name": "python3"
  },
  "language_info": {
   "codemirror_mode": {
    "name": "ipython",
    "version": 3
   },
   "file_extension": ".py",
   "mimetype": "text/x-python",
   "name": "python",
   "nbconvert_exporter": "python",
   "pygments_lexer": "ipython3",
   "version": "3.7.11"
  },
  "orig_nbformat": 4
 },
 "nbformat": 4,
 "nbformat_minor": 2
}
